{
 "cells": [
  {
   "cell_type": "markdown",
   "metadata": {},
   "source": [
    "# 大数据门户项目总结"
   ]
  },
  {
   "cell_type": "markdown",
   "metadata": {},
   "source": [
    "<h3>项目描述</h3>"
   ]
  },
  {
   "cell_type": "markdown",
   "metadata": {},
   "source": [
    "<p>随着大数据应用越来越成熟，牛鼎丰大数据部提出了大数据门户的开发需求。计划集成各种数据应用，包括业务报表、精准服务、数据服务及专题应用涉及在线、分期及普惠数据应用。该门户网站为集团各级管理者、数据分析人员、一线业务人员提供数据服务，为企业战略发展与日常运营提供分析支撑。</p>\n",
    "<br>\n",
    "<p>大数据门户相关数据从Hadoop平台获取的相关数据，并对数据做ETL。然后依据各部门的需求对数据进行分析，最终以友好的界面展示分析结果，为企业战略发展与日常运营提供分析支撑。大数据门户与管理看板项目已于6月中下旬上线，用户可线上正常访问。项目链接：<a href=\"http://data.xiaoniu66.com/\"><i>http://data.xiaoniu66.com/</i></a></p>\n"
   ]
  },
  {
   "cell_type": "markdown",
   "metadata": {},
   "source": [
    "<h3>项目开发工具</h3>"
   ]
  },
  {
   "cell_type": "markdown",
   "metadata": {},
   "source": [
    "前端`` Webstorm ``+后端 `` Spring Eclipse ``"
   ]
  },
  {
   "cell_type": "markdown",
   "metadata": {},
   "source": [
    "代码管理工具：SVN"
   ]
  },
  {
   "cell_type": "markdown",
   "metadata": {},
   "source": [
    "<h3>技术选型</h3>"
   ]
  },
  {
   "cell_type": "markdown",
   "metadata": {},
   "source": [
    "1. 基础开发工具：``HTML/CSS/JavaScript``；<br/>\n",
    "2. UI框架：``Bootstrap``+自定义样式；<br/>\n",
    "3. JS库：``jQuery``；<br/>\n",
    "4. JS模块化工具：``requireJs``；<br/>\n",
    "5. 图表可视化工具：<a href=\"http://echarts.baidu.com/index.html\">Echarts</a>。"
   ]
  },
  {
   "cell_type": "markdown",
   "metadata": {},
   "source": [
    "<h3>门户页面开发</h3>"
   ]
  },
  {
   "cell_type": "markdown",
   "metadata": {},
   "source": [
    "<h4>门户页面</h4>"
   ]
  },
  {
   "cell_type": "markdown",
   "metadata": {},
   "source": [
    "```\n",
    "bdportal/resources\n",
    "├── util/\n",
    "│   ├── Awesome/\n",
    "│   ├── bootstrap/\n",
    "│   ├── css/\n",
    "│   ├── images/\n",
    "│   └── js/\n",
    "├── dashboard/\n",
    "│   ├── assetLogin.html\n",
    "│   └── fundLogin.html\n",
    "├── dataAudit/\n",
    "│   └── login.html\n",
    "├── homeNav/\n",
    "│   ├── index.html\n",
    "│   ├── businessReport/\n",
    "│   ├── document/\n",
    "│   ├── js/\n",
    "│   ├── service/\n",
    "│   └── subjectApplication/\n",
    "└── managRep/\n",
    "    ├── login.html\n",
    "    └── login.js\n",
    "```"
   ]
  },
  {
   "cell_type": "markdown",
   "metadata": {},
   "source": [
    "静态页面<hr/>"
   ]
  },
  {
   "cell_type": "markdown",
   "metadata": {},
   "source": [
    "门户部分，主要内容是门户主页的开发。页面采用``Bootstrap``栅格系统布局。\n",
    "1.\t头部导航：使用``Bootstrap``导航栏样式组件+自定义样式。\n",
    "2.\t轮播图：使用``Bootstrap``轮播图插件+自定义样式。\n",
    "3.\t内容部分：主要采用``li``无序列表展示。"
   ]
  },
  {
   "cell_type": "markdown",
   "metadata": {},
   "source": [
    "页面动态数据<hr/>"
   ]
  },
  {
   "cell_type": "markdown",
   "metadata": {},
   "source": [
    "1.\t系统公告、常见问题的数据内容以``JSON``文件格式存储。利用``jQuery DOM``元素操作将内容写入到页面中。\n",
    "2.\t常用文档通过就``jQuery ajax``从后台以``JSON``格式读取文档信息列表, 利用``jQuery DOM``元素操作将内容写入到页面中。"
   ]
  },
  {
   "cell_type": "markdown",
   "metadata": {},
   "source": [
    "<h4>登录页面</h4>"
   ]
  },
  {
   "cell_type": "markdown",
   "metadata": {},
   "source": [
    "登录操作"
   ]
  },
  {
   "cell_type": "markdown",
   "metadata": {},
   "source": [
    "1.\t``jQuery``读取用户输入的信息。\n",
    "2.\t对用户输入信息进行本地逻辑校验，如：非法字符、空字符等。如不合要求，则在页面进行错误提示。\n",
    "3.\t确认用户输入信息合规，通过``ajax``将信息提交后台进行判断。根据返回信息，如果验证通过则登录成功，进行相应的登录成功操作。如果失败，则在页面进行错误提示。"
   ]
  },
  {
   "cell_type": "markdown",
   "metadata": {},
   "source": [
    "    function getTicket(){\n",
    "\t\tif (_jM.validate.isNotEmpty(_jM.getCookie(\"mr_managRep_ticket\"))) return;\n",
    "\t\tvar sticket = _jM.getParam(\"ticket\");\n",
    "\t\t_manaPlug.loadFun.show();\n",
    "\t\t$.ajax({\n",
    "            type: \"POST\",\n",
    "            url: \"/mrportal/rest/access_ticket\",\n",
    "            dataType: \"json\",\n",
    "            async:false,\n",
    "            beforeSend: function (request) {\n",
    "                request.setRequestHeader(\"X-Requested-SystemCode\", \"neo_bdportal\");\n",
    "                request.setRequestHeader(\"X-Requested-Ticket\", sticket);\n",
    "            },\n",
    "            success: function (rst) {\n",
    "                if (rst.success) {\n",
    "                    var ticket=rst.data.ticket;\n",
    "                    if(_jM.validate.isNotEmpty(ticket)){\n",
    "                    \t_jM.setCookie(\"mr_managRep_ticket\", ticket, 2, \"/\");\n",
    "                    }else{\n",
    "                    \t_manaPlug.nullTicket();\n",
    "                    }\n",
    "                    _manaPlug.loadFun.hide();\n",
    "                } else {\n",
    "                \tif(rst.code==\"1004\"||rst.code==\"1005\"){\n",
    "                \t\t_manaPlug.logOverTime(rst);\n",
    "                \t}\n",
    "                }\n",
    "            },\n",
    "            error: function (rst) {\n",
    "                //alert(\"错误提示： \" + rst.status + \" \" + rst.statusText);\n",
    "            }\n",
    "        });\n",
    "\t}"
   ]
  },
  {
   "cell_type": "markdown",
   "metadata": {},
   "source": [
    "<h3>管理看板页面开发</h3>"
   ]
  },
  {
   "cell_type": "markdown",
   "metadata": {},
   "source": [
    "```\n",
    "mrportal/resources/\n",
    "├── util/\n",
    "│   ├── bootstrap/\n",
    "│   ├── css/\n",
    "│   ├── dataTimePicker/\n",
    "│   ├── images/\n",
    "│   └── js/\n",
    "└── managRep/\n",
    "    ├── customerAnaly/\n",
    "    ├── js/\n",
    "    ├── productAnaly/\n",
    "    ├── riskManaAnaly/\n",
    "    ├── sellAnaly/\n",
    "    ├── index.html/\n",
    "    └── index.js\n",
    "```"
   ]
  },
  {
   "cell_type": "markdown",
   "metadata": {},
   "source": [
    "<h4>静态页面开发</h4>"
   ]
  },
  {
   "cell_type": "markdown",
   "metadata": {},
   "source": [
    "页面描述<hr/>"
   ]
  },
  {
   "cell_type": "markdown",
   "metadata": {},
   "source": [
    "管理看板每个页面的布局都一样：\n",
    "1.\t头部导航栏``header``\n",
    "2.\t中间左侧导航栏``aside``\n",
    "3.\t中间右侧内容``section``\n",
    "4.\t页面底部``footer``"
   ]
  },
  {
   "cell_type": "markdown",
   "metadata": {},
   "source": [
    "页面布局<hr/>"
   ]
  },
  {
   "cell_type": "markdown",
   "metadata": {},
   "source": [
    "每个页面变动的只有``section``部分。第一版开发没有利用这一特性，在每个页面都单独写上了``header、aside、footer``。<br/>\n",
    "该方式增加了大量的冗余代码，降低了页面性能，是采用``ajax``动态加载``html``页面的方式——后续会将对此进行优化。<br>\n",
    "首先写一个基础页面``index.html``，该页面包括``header、aside、footer``以及一个空内容的``section``。<br/>\n",
    "剩余其他页面只要在每个页面写上对应的展示内容``section``部分即可。<br/>\n",
    "在```index.html```初始化的时候，将业绩概览``main.html``的内容通过``ajax``读取并加载到``index.html``的``section``区域中，就会组成一个完整的页面。<br/>\n",
    "用户点击``aside``导航栏浏览其他页面时，就会触发点击事件绑定的方法``getMainHtml()``。<br/>\n",
    "该方法会将对应目标页面内容加载到``index.html``的``section``区域，并覆盖之前的内容。"
   ]
  },
  {
   "cell_type": "markdown",
   "metadata": {},
   "source": [
    "Require.js模块<hr/>"
   ]
  },
  {
   "cell_type": "markdown",
   "metadata": {},
   "source": [
    "实现js文件的异步加载，避免网页失去响应，管理模块的相互依赖性，便于代码编写维护。```require.config()```方法对模块的加载行为自定义。"
   ]
  },
  {
   "cell_type": "markdown",
   "metadata": {},
   "source": [
    "    require.config({\n",
    "        baseUrl : '/mrportal/resources',\n",
    "        paths : {\n",
    "            \"jquery\" : \"util/js/jquery-1.9.1.min\",\n",
    "            \"bootstrap\" : \"util/bootstrap/js/bootstrap.min\",\n",
    "            \"echarts\" : \"util/js/echarts\",\n",
    "            \"dateTimePicker\" : \"util/dateTimePicker/bootstrap-datetimepicker\",\n",
    "            \"manaPlug\" : \"managRep/js/managPlug\",\n",
    "            \"jm\" : \"util/js/public-util\"\n",
    "        },\n",
    "        map : {\n",
    "            '*' : {\n",
    "                'css' : 'util/js/css'\n",
    "            }\n",
    "        },\n",
    "        shim : {\n",
    "            bootstrap : {\n",
    "                deps : [ 'jquery' ],\n",
    "            },\n",
    "            manaPlug : {\n",
    "                deps : [ 'jquery', 'bootstrap', 'echarts','jm' ]\n",
    "            },\n",
    "            jm : {\n",
    "                deps : [ 'jquery', 'bootstrap' ]\n",
    "            }\n",
    "        }\n",
    "    });"
   ]
  },
  {
   "cell_type": "markdown",
   "metadata": {},
   "source": [
    "ECharts图表<hr/>"
   ]
  },
  {
   "cell_type": "markdown",
   "metadata": {},
   "source": [
    "管理看板系统页面内容主要就是echarts表，可设计展示图表的``html``组件：标题、筛选下拉框、echarts图表，本系统所有图表使用该结构以及样式。<br>\n",
    "每一个echarts表格的生成，都将调用``echarts.js``插件方法生成。在本系统中使用的echarts图表有：折线、柱状、环图、饼图。其中折线、柱状以及混合图表的参数option结构大体相同，因此可以将这一类图表的方法写成公用的模块方法``chart_universal()``。"
   ]
  },
  {
   "cell_type": "markdown",
   "metadata": {},
   "source": [
    "时间筛选<hr/>"
   ]
  },
  {
   "cell_type": "markdown",
   "metadata": {},
   "source": [
    "时间插件使用``dateTimePicker.js``。根据使用的需求，对插件进行相应更改。时间的筛选方式有三种：年、月、日。切换筛选方式时，只要改变时间插件初始化方法``dateTimeApi()``参数即可，该方法自定义增加了初始时间参数。"
   ]
  },
  {
   "cell_type": "markdown",
   "metadata": {},
   "source": [
    "```\n",
    "managPlug.meDateTime = {\n",
    "    dateTime : function() {\n",
    "        managPlug.meDateTime.dateTimeApi(3, \"yyyy-mm\");\n",
    "        $(\"#totalWay\").change(function() {\n",
    "            var totalWay = $(\"#totalWay\").val();\n",
    "            switch (totalWay) {\n",
    "                case '0':\n",
    "                    managPlug.meDateTime.dateTimeApi(4, \"yyyy\");\n",
    "                    break;\n",
    "                case '1':\n",
    "                    managPlug.meDateTime.dateTimeApi(3, \"yyyy-mm\");\n",
    "                    break;\n",
    "                case '2':\n",
    "                    managPlug.meDateTime.dateTimeApi(2, \"yyyy-mm-dd\");\n",
    "                    break;\n",
    "                default:\n",
    "                    managPlug.meDateTime.dateTimeApi(3, \"yyyy-mm\");\n",
    "            }\n",
    "        });\n",
    "    },\n",
    "    dateTimeApi : function(minView, format) {\n",
    "        $('#startTime').datetimepicker('remove');\n",
    "        $('#startTime').datetimepicker({\n",
    "            format : format,\n",
    "            autoclose : 1,\n",
    "            startView : minView,\n",
    "            minView : minView\n",
    "        });\n",
    "        if (minView == 4) {\n",
    "            $('#startTime').datetimepicker(\"initValue\", 5 * 365);\n",
    "        }\n",
    "        if (minView == 3) {\n",
    "            $('#startTime').datetimepicker(\"initValue\", 5 * 30);\n",
    "        }\n",
    "        if (minView == 2) {\n",
    "            $('#startTime').datetimepicker(\"initValue\", 7);\n",
    "        }\n",
    "\n",
    "        $('#endTime').datetimepicker('remove');\n",
    "        $('#endTime').datetimepicker({\n",
    "            format : format,\n",
    "            autoclose : 1,\n",
    "            startView : minView,\n",
    "            minView : minView\n",
    "        });\n",
    "        if(minView==2){\n",
    "            $('#endTime').datetimepicker(\"initValue\",1);\n",
    "        }else{\n",
    "            $('#endTime').datetimepicker(\"initValue\");\n",
    "        }\n",
    "\n",
    "        $('#endTime').datetimepicker('setStartDate',\n",
    "            $(\"#startTime\").val());\n",
    "        $('#startTime').datetimepicker('setEndDate',\n",
    "            $(\"#endTime\").val());\n",
    "        $('#endTime').datetimepicker('setEndDate', new Date());\n",
    "\n",
    "        $('#startTime').unbind(\"change\");\n",
    "        $('#startTime').change(\n",
    "            function() {\n",
    "                $('#endTime').datetimepicker('setStartDate',\n",
    "                    $(\"#startTime\").val());\n",
    "            });\n",
    "        $('#endTime').unbind(\"change\");\n",
    "        $('#endTime').change(\n",
    "            function() {\n",
    "                $('#startTime').datetimepicker('setEndDate',\n",
    "                    $(\"#endTime\").val());\n",
    "            });\n",
    "    }\n",
    "}\n",
    "```"
   ]
  },
  {
   "cell_type": "markdown",
   "metadata": {},
   "source": [
    "<h4>动态数据请求</h4>"
   ]
  },
  {
   "cell_type": "markdown",
   "metadata": {},
   "source": [
    "基础ajax<hr/>"
   ]
  },
  {
   "cell_type": "markdown",
   "metadata": {},
   "source": [
    "数据请求同样采用ajax请求，首先将ajax写成公用方法managPlug.ajax(),该方法接受4个参数。请求接口url、条件参数param、请求成功处理success、请求失败处理error。"
   ]
  },
  {
   "cell_type": "markdown",
   "metadata": {},
   "source": [
    "Echarts的ajax<hr/>"
   ]
  },
  {
   "cell_type": "markdown",
   "metadata": {},
   "source": [
    "Echarts的``ajax``请求处理中,null空数据以及error的处理方式都一样，因此可以将echarts的``ajax``在``managPlug.ajax()``基础上再进行封装，写成一个公用方法``managPlug.chartAjax()``。"
   ]
  },
  {
   "cell_type": "markdown",
   "metadata": {},
   "source": [
    "```\n",
    "managPlug.ajax = function(url, param, success){\n",
    "    managPlug.loadFun.show();\n",
    "    $.ajax({\n",
    "        type : \"POST\",\n",
    "        url : url,\n",
    "        dataType : \"json\",\n",
    "        data : param,\n",
    "        beforeSend : function(request) {\n",
    "            request.setRequestHeader(\"X-Requested-SystemCode\",\"neo_mrportal\");\n",
    "            request.setRequestHeader(\"X-Requested-Ticket\", _jM.getCookie(\"mr_managRep_ticket\"));\n",
    "        },\n",
    "        success : function(rst){\n",
    "            if(rst.success){\n",
    "                success(rst);\n",
    "                managPlug.loadFun.hide();\n",
    "            }else{\n",
    "                if(rst.code==\"1004\"||rst.code==\"1005\"){\n",
    "                    managPlug.logOverTime(rst);\n",
    "                }\n",
    "            }\n",
    "        },\n",
    "        error : function(rst) {\n",
    "\n",
    "        }\n",
    "    });\n",
    "}\n",
    "```"
   ]
  },
  {
   "cell_type": "markdown",
   "metadata": {},
   "source": [
    "<h3>项目开发过程中的问题</h3>"
   ]
  },
  {
   "cell_type": "markdown",
   "metadata": {},
   "source": [
    "<i>大数据门户2.0以及管理看板的后续优化工作就注意并避免下列问题：</i>"
   ]
  },
  {
   "cell_type": "markdown",
   "metadata": {},
   "source": [
    "1、\t沟通方面问题"
   ]
  },
  {
   "cell_type": "markdown",
   "metadata": {},
   "source": [
    "由于项目过程中，项目的描述以及需求不明确，导致开发过程中的不断返工。项目中涉及的问题应在团队内统一部署，这样方便团队内各方相互协作，减少二次沟通成本。"
   ]
  },
  {
   "cell_type": "markdown",
   "metadata": {},
   "source": [
    "2、\t资源协调问题"
   ]
  },
  {
   "cell_type": "markdown",
   "metadata": {},
   "source": [
    "UI设计的启动延迟，使项目开发进度紧迫，而且导致了二次开发。"
   ]
  },
  {
   "cell_type": "markdown",
   "metadata": {},
   "source": [
    "3、\t二次登录问题"
   ]
  },
  {
   "cell_type": "markdown",
   "metadata": {},
   "source": [
    "小牛金服两次登录的问题：统一用PMS账户登录。"
   ]
  },
  {
   "cell_type": "markdown",
   "metadata": {},
   "source": [
    "4、\t门户与Qlik Sense涉及二次开发的问题"
   ]
  },
  {
   "cell_type": "markdown",
   "metadata": {},
   "source": [
    "改由统一为自主开发网页的形式，Echarts实现报表可视化。"
   ]
  },
  {
   "cell_type": "markdown",
   "metadata": {},
   "source": [
    "5、\t门户中涉及文档较多"
   ]
  },
  {
   "cell_type": "markdown",
   "metadata": {},
   "source": [
    "后续版本将加入内容管理系统。"
   ]
  },
  {
   "cell_type": "markdown",
   "metadata": {},
   "source": [
    "6、\t需求不明确"
   ]
  },
  {
   "cell_type": "markdown",
   "metadata": {},
   "source": [
    "上线前管理看板内容还在修改。"
   ]
  },
  {
   "cell_type": "markdown",
   "metadata": {},
   "source": [
    "7、\t导航分别权限"
   ]
  },
  {
   "cell_type": "markdown",
   "metadata": {
    "collapsed": true
   },
   "source": [
    "```\n",
    "managPlug.manaMenu = function(custType, active) {\n",
    "    var menuData = {\n",
    "        \"saZx\" : \"/mrportal/resources/managRep/sellAnaly/sellAnaly-zx.html\",\n",
    "        \"saPh\" : \"/mrportal/resources/managRep/sellAnaly/sellAnaly-ph.html\",\n",
    "        \"saFq\" : \"/mrportal/resources/managRep/sellAnaly/sellAnaly-fq.html\",\n",
    "        \"paZx\" : \"/mrportal/resources/managRep/productAnaly/productAnaly-zx.html\",\n",
    "        \"paPh\" : \"/mrportal/resources/managRep/productAnaly/productAnaly-ph.html\",\n",
    "        \"paFq\" : \"/mrportal/resources/managRep/productAnaly/productAnaly-fq.html\",\n",
    "        \"caZx\" : \"/mrportal/resources/managRep/customerAnaly/customerAnaly-zx.html\",\n",
    "        \"caPh\" : \"/mrportal/resources/managRep/customerAnaly/customerAnaly-ph.html\",\n",
    "        \"caFq\" : \"/mrportal/resources/managRep/customerAnaly/customerAnaly-fq.html\",\n",
    "        \"rmaPhDz\" : \"/mrportal/resources/managRep/riskManaAnaly/riskManaAnaly-phdz.html\",\n",
    "        \"rmaPhDh\" : \"/mrportal/resources/managRep/riskManaAnaly/riskManaAnaly-phdh.html\",\n",
    "        \"rmaFqDz\" : \"/mrportal/resources/managRep/riskManaAnaly/riskManaAnaly-fqdz.html\",\n",
    "        \"rmaFqDh\" : \"/mrportal/resources/managRep/riskManaAnaly/riskManaAnaly-fqdh.html\",\n",
    "    };\n",
    "    var saZx = '<li class=\"nav-child-li\" id=\"sazx\"><a href=\"'\n",
    "        + menuData.saZx + '\">—在线</a></li>';\n",
    "    var saPh = '<li class=\"nav-child-li\" id=\"saph\"><a href=\"'\n",
    "        + menuData.saPh + '\">—普惠</a></li>';\n",
    "    var saFq = '<li class=\"nav-child-li\" id=\"safq\"><a href=\"'\n",
    "        + menuData.saFq + '\">—分期</a></li>';\n",
    "    var paZx = '<li class=\"nav-child-li\" id=\"pazx\"><a href=\"'\n",
    "        + menuData.paZx + '\">—在线</a></li>';\n",
    "    var paPh = '<li class=\"nav-child-li\" id=\"paph\"><a href=\"'\n",
    "        + menuData.paPh + '\">—普惠</a></li>';\n",
    "    var paFq = '<li class=\"nav-child-li\" id=\"pafq\"><a href=\"'\n",
    "        + menuData.paFq + '\">—分期</a></li>';\n",
    "    var caZx = '<li class=\"nav-child-li\" id=\"cazx\"><a href=\"'\n",
    "        + menuData.caZx + '\">—在线</a></li>';\n",
    "    var caPh = '<li class=\"nav-child-li\" id=\"caph\"><a href=\"'\n",
    "        + menuData.caPh + '\">—普惠</a></li>';\n",
    "    var caFq = '<li class=\"nav-child-li\" id=\"cafq\"><a href=\"'\n",
    "        + menuData.caFq + '\">—分期</a></li>';\n",
    "    var rmaPhDz = '<li class=\"nav-child-li\" id=\"rmaphdz\"><a href=\"'\n",
    "        + menuData.rmaPhDz + '\">—普惠贷中</a></li>';\n",
    "    var rmaPhDh = '<li class=\"nav-child-li\" id=\"rmaphdh\"><a href=\"'\n",
    "        + menuData.rmaPhDh + '\">—普惠贷后</a></li>';\n",
    "    var rmaFqDz = '<li class=\"nav-child-li\" id=\"rmafqdz\"><a href=\"'\n",
    "        + menuData.rmaFqDz + '\">—分期贷中</a></li>';\n",
    "    var rmaFqDh = '<li class=\"nav-child-li\" id=\"rmafqdh\"><a href=\"'\n",
    "        + menuData.rmaFqDh + '\">—分期贷后</a></li>';\n",
    "\n",
    "    function menuZx() {\n",
    "        $(\"#sellAnalyParent\").attr(\"href\", menuData.saZx);\n",
    "        $(\"#productAnalyParent\").attr(\"href\", menuData.paZx);\n",
    "        $(\"#customerAnalyParent\").attr(\"href\", menuData.caZx);\n",
    "        $(\"#riskManaAnalyParent\").hide();\n",
    "\n",
    "        $(\"#sellAnalyChild\").html(saZx);\n",
    "        $(\"#productAnalyChild\").html(paZx);\n",
    "        $(\"#customerAnalyChild\").html(caZx);\n",
    "        $(\"#riskManaAnalyChild\").html(\"\");\n",
    "    }\n",
    "\n",
    "    function menuPh() {\n",
    "        $(\"#sellAnalyParent\").attr(\"href\", menuData.saPh);\n",
    "        $(\"#productAnalyParent\").attr(\"href\", menuData.paPh);\n",
    "        $(\"#customerAnalyParent\").attr(\"href\", menuData.caPh);\n",
    "        $(\"#riskManaAnalyParent\").attr(\"href\", menuData.rmaPhDz);\n",
    "\n",
    "        $(\"#sellAnalyChild\").html(saPh);\n",
    "        $(\"#productAnalyChild\").html(paPh);\n",
    "        $(\"#customerAnalyChild\").html(caPh);\n",
    "        $(\"#riskManaAnalyChild\").html(rmaPhDz + rmaPhDh);\n",
    "    }\n",
    "\n",
    "    function menuFq() {\n",
    "        $(\"#sellAnalyParent\").attr(\"href\", menuData.saFq);\n",
    "        $(\"#productAnalyParent\").attr(\"href\", menuData.paFq);\n",
    "        $(\"#customerAnalyParent\").attr(\"href\", menuData.caFq);\n",
    "        $(\"#riskManaAnalyParent\").attr(\"href\", menuData.rmaFqDz);\n",
    "\n",
    "        $(\"#sellAnalyChild\").html(saFq);\n",
    "        $(\"#productAnalyChild\").html(paFq);\n",
    "        $(\"#customerAnalyChild\").html(caFq);\n",
    "        $(\"#riskManaAnalyChild\").html(rmaFqDz + rmaFqDh);\n",
    "    }\n",
    "\n",
    "    function menuAll() {\n",
    "        $(\"#sellAnalyParent\").attr(\"href\", menuData.saZx);\n",
    "        $(\"#productAnalyParent\").attr(\"href\", menuData.paZx);\n",
    "        $(\"#customerAnalyParent\").attr(\"href\", menuData.caZx);\n",
    "        $(\"#riskManaAnalyParent\").attr(\"href\", menuData.rmaPhDz);\n",
    "\n",
    "        $(\"#sellAnalyChild\").html(saZx + saPh + saFq);\n",
    "        $(\"#productAnalyChild\").html(paZx + paPh + paFq);\n",
    "        $(\"#customerAnalyChild\").html(caZx + caPh + caFq);\n",
    "        $(\"#riskManaAnalyChild\").html(\n",
    "            rmaPhDz + rmaPhDh + rmaFqDz + rmaFqDh);\n",
    "    }\n",
    "\n",
    "    function initMenu(custType) {\n",
    "        switch (custType) {\n",
    "            case \"zx\":\n",
    "                menuZx();\n",
    "                break;\n",
    "            case \"ph\":\n",
    "                menuPh();\n",
    "                break;\n",
    "            case \"fq\":\n",
    "                menuFq();\n",
    "                break;\n",
    "            default:\n",
    "                menuAll();\n",
    "                break;\n",
    "        }\n",
    "    }\n",
    "    ;\n",
    "\n",
    "    initMenu(custType);\n",
    "    $(\".nav-child-li\").removeClass(\"active\");// 移除2级菜单高亮\n",
    "    $(\".nav-list-li\").removeClass(\"active\");// 移除1级菜单高亮\n",
    "    if (active == \"index\") {// active:当前页面标示。如果是index(业绩预览页面)，就直接给指标橄榄加上active（高亮）\n",
    "        $(\"#indexOverView\").addClass(\"active\");\n",
    "    } else {// 如果不是index（业绩预览）执行以下处理。除了业绩预览，其他一级菜单都有子菜单\n",
    "        $(\"#\" + active).addClass(\"active\");// 当前页面（二级菜单页面）加上active\n",
    "        $(\"#\" + active).parents(\"li.nav-list-li\")\n",
    "            .addClass(\"active\");// 找到对应父菜单（一级菜单）加上active\n",
    "        if (custType == \"all\") {\n",
    "\n",
    "        }\n",
    "        $(\"#\" + active).siblings(\"li\").show();// 显示当前二级菜单的同级的其他二级菜单\n",
    "    }\n",
    "}\n",
    "```"
   ]
  }
 ],
 "metadata": {
  "kernelspec": {
   "display_name": "Python 3",
   "language": "python",
   "name": "python3"
  },
  "language_info": {
   "codemirror_mode": {
    "name": "ipython",
    "version": 3
   },
   "file_extension": ".py",
   "mimetype": "text/x-python",
   "name": "python",
   "nbconvert_exporter": "python",
   "pygments_lexer": "ipython3",
   "version": "3.5.2"
  }
 },
 "nbformat": 4,
 "nbformat_minor": 2
}
